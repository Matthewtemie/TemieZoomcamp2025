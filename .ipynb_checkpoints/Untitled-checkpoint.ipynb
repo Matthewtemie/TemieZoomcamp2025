{
 "cells": [
  {
   "cell_type": "code",
   "execution_count": 1,
   "id": "27a70b0f-03fa-46a7-97c2-67b56d6ac175",
   "metadata": {},
   "outputs": [
    {
     "name": "stdout",
     "output_type": "stream",
     "text": [
      "Hello World in Codespace\n"
     ]
    }
   ],
   "source": [
    "print('Hello World in Codespace')"
   ]
  },
  {
   "cell_type": "code",
   "execution_count": null,
   "id": "1ba4a58e-0387-42ed-9729-476acc3c7112",
   "metadata": {},
   "outputs": [],
   "source": []
  }
 ],
 "metadata": {
  "kernelspec": {
   "display_name": "Python 3 (ipykernel)",
   "language": "python",
   "name": "python3"
  },
  "language_info": {
   "codemirror_mode": {
    "name": "ipython",
    "version": 3
   },
   "file_extension": ".py",
   "mimetype": "text/x-python",
   "name": "python",
   "nbconvert_exporter": "python",
   "pygments_lexer": "ipython3",
   "version": "3.12.1"
  }
 },
 "nbformat": 4,
 "nbformat_minor": 5
}
